{
 "cells": [
  {
   "cell_type": "code",
   "execution_count": 1,
   "id": "4ea21b44",
   "metadata": {},
   "outputs": [],
   "source": [
    "import pandas as pd\n",
    "import numpy as np\n",
    "import csv\n",
    "\n",
    "from datetime import datetime, timedelta"
   ]
  },
  {
   "cell_type": "code",
   "execution_count": 2,
   "id": "92d2675e",
   "metadata": {},
   "outputs": [
    {
     "data": {
      "text/html": [
       "<div>\n",
       "<style scoped>\n",
       "    .dataframe tbody tr th:only-of-type {\n",
       "        vertical-align: middle;\n",
       "    }\n",
       "\n",
       "    .dataframe tbody tr th {\n",
       "        vertical-align: top;\n",
       "    }\n",
       "\n",
       "    .dataframe thead th {\n",
       "        text-align: right;\n",
       "    }\n",
       "</style>\n",
       "<table border=\"1\" class=\"dataframe\">\n",
       "  <thead>\n",
       "    <tr style=\"text-align: right;\">\n",
       "      <th></th>\n",
       "      <th>cve_ent</th>\n",
       "      <th>nombre</th>\n",
       "      <th>fecha</th>\n",
       "      <th>confirmados</th>\n",
       "    </tr>\n",
       "  </thead>\n",
       "  <tbody>\n",
       "    <tr>\n",
       "      <th>0</th>\n",
       "      <td>1</td>\n",
       "      <td>AGUASCALIENTES</td>\n",
       "      <td>2020-02-26</td>\n",
       "      <td>0</td>\n",
       "    </tr>\n",
       "    <tr>\n",
       "      <th>1</th>\n",
       "      <td>2</td>\n",
       "      <td>BAJA CALIFORNIA</td>\n",
       "      <td>2020-02-26</td>\n",
       "      <td>0</td>\n",
       "    </tr>\n",
       "    <tr>\n",
       "      <th>2</th>\n",
       "      <td>3</td>\n",
       "      <td>BAJA CALIFORNIA SUR</td>\n",
       "      <td>2020-02-26</td>\n",
       "      <td>0</td>\n",
       "    </tr>\n",
       "  </tbody>\n",
       "</table>\n",
       "</div>"
      ],
      "text/plain": [
       "   cve_ent               nombre      fecha  confirmados\n",
       "0        1       AGUASCALIENTES 2020-02-26            0\n",
       "1        2      BAJA CALIFORNIA 2020-02-26            0\n",
       "2        3  BAJA CALIFORNIA SUR 2020-02-26            0"
      ]
     },
     "metadata": {},
     "output_type": "display_data"
    }
   ],
   "source": [
    "confirmados = pd.read_csv('../data/inputs/Casos_Diarios_Estado_Nacional_Confirmados.csv')\n",
    "confirmados = pd.melt(confirmados, id_vars=['cve_ent', 'poblacion', 'nombre'], var_name='fecha', value_name='confirmados')\n",
    "confirmados['fecha'] = pd.to_datetime(confirmados['fecha'], format='%d-%m-%Y')\n",
    "confirmados = confirmados.drop(columns=['poblacion'])\n",
    "\n",
    "display(confirmados.head(3))"
   ]
  },
  {
   "cell_type": "code",
   "execution_count": 3,
   "id": "30081a9a",
   "metadata": {},
   "outputs": [
    {
     "data": {
      "text/html": [
       "<div>\n",
       "<style scoped>\n",
       "    .dataframe tbody tr th:only-of-type {\n",
       "        vertical-align: middle;\n",
       "    }\n",
       "\n",
       "    .dataframe tbody tr th {\n",
       "        vertical-align: top;\n",
       "    }\n",
       "\n",
       "    .dataframe thead th {\n",
       "        text-align: right;\n",
       "    }\n",
       "</style>\n",
       "<table border=\"1\" class=\"dataframe\">\n",
       "  <thead>\n",
       "    <tr style=\"text-align: right;\">\n",
       "      <th></th>\n",
       "      <th>cve_ent</th>\n",
       "      <th>nombre</th>\n",
       "      <th>fecha</th>\n",
       "      <th>defunciones</th>\n",
       "    </tr>\n",
       "  </thead>\n",
       "  <tbody>\n",
       "    <tr>\n",
       "      <th>0</th>\n",
       "      <td>1</td>\n",
       "      <td>AGUASCALIENTES</td>\n",
       "      <td>2020-03-17</td>\n",
       "      <td>0</td>\n",
       "    </tr>\n",
       "    <tr>\n",
       "      <th>1</th>\n",
       "      <td>2</td>\n",
       "      <td>BAJA CALIFORNIA</td>\n",
       "      <td>2020-03-17</td>\n",
       "      <td>0</td>\n",
       "    </tr>\n",
       "    <tr>\n",
       "      <th>2</th>\n",
       "      <td>3</td>\n",
       "      <td>BAJA CALIFORNIA SUR</td>\n",
       "      <td>2020-03-17</td>\n",
       "      <td>0</td>\n",
       "    </tr>\n",
       "  </tbody>\n",
       "</table>\n",
       "</div>"
      ],
      "text/plain": [
       "   cve_ent               nombre      fecha  defunciones\n",
       "0        1       AGUASCALIENTES 2020-03-17            0\n",
       "1        2      BAJA CALIFORNIA 2020-03-17            0\n",
       "2        3  BAJA CALIFORNIA SUR 2020-03-17            0"
      ]
     },
     "metadata": {},
     "output_type": "display_data"
    }
   ],
   "source": [
    "defunciones = pd.read_csv('../data/inputs/Casos_Diarios_Estado_Nacional_Defunciones.csv')\n",
    "defunciones = pd.melt(defunciones, id_vars=['cve_ent', 'poblacion', 'nombre'], var_name='fecha', value_name='defunciones')\n",
    "defunciones['fecha'] = pd.to_datetime(defunciones['fecha'], format='%d-%m-%Y')\n",
    "defunciones = defunciones.drop(columns=['poblacion'])\n",
    "\n",
    "display(defunciones.head(3))"
   ]
  },
  {
   "cell_type": "code",
   "execution_count": 4,
   "id": "8498fb65",
   "metadata": {},
   "outputs": [
    {
     "data": {
      "text/html": [
       "<div>\n",
       "<style scoped>\n",
       "    .dataframe tbody tr th:only-of-type {\n",
       "        vertical-align: middle;\n",
       "    }\n",
       "\n",
       "    .dataframe tbody tr th {\n",
       "        vertical-align: top;\n",
       "    }\n",
       "\n",
       "    .dataframe thead th {\n",
       "        text-align: right;\n",
       "    }\n",
       "</style>\n",
       "<table border=\"1\" class=\"dataframe\">\n",
       "  <thead>\n",
       "    <tr style=\"text-align: right;\">\n",
       "      <th></th>\n",
       "      <th>cve_ent</th>\n",
       "      <th>nombre</th>\n",
       "      <th>fecha</th>\n",
       "      <th>negativos</th>\n",
       "    </tr>\n",
       "  </thead>\n",
       "  <tbody>\n",
       "    <tr>\n",
       "      <th>0</th>\n",
       "      <td>1</td>\n",
       "      <td>AGUASCALIENTES</td>\n",
       "      <td>2019-12-31</td>\n",
       "      <td>0</td>\n",
       "    </tr>\n",
       "    <tr>\n",
       "      <th>1</th>\n",
       "      <td>2</td>\n",
       "      <td>BAJA CALIFORNIA</td>\n",
       "      <td>2019-12-31</td>\n",
       "      <td>0</td>\n",
       "    </tr>\n",
       "    <tr>\n",
       "      <th>2</th>\n",
       "      <td>3</td>\n",
       "      <td>BAJA CALIFORNIA SUR</td>\n",
       "      <td>2019-12-31</td>\n",
       "      <td>0</td>\n",
       "    </tr>\n",
       "  </tbody>\n",
       "</table>\n",
       "</div>"
      ],
      "text/plain": [
       "   cve_ent               nombre      fecha  negativos\n",
       "0        1       AGUASCALIENTES 2019-12-31          0\n",
       "1        2      BAJA CALIFORNIA 2019-12-31          0\n",
       "2        3  BAJA CALIFORNIA SUR 2019-12-31          0"
      ]
     },
     "metadata": {},
     "output_type": "display_data"
    }
   ],
   "source": [
    "negativos = pd.read_csv('../data/inputs/Casos_Diarios_Estado_Nacional_Negativos.csv')\n",
    "negativos = pd.melt(negativos, id_vars=['cve_ent', 'poblacion', 'nombre'], var_name='fecha', value_name='negativos')\n",
    "negativos['fecha'] = pd.to_datetime(negativos['fecha'], format='%d-%m-%Y')\n",
    "negativos = negativos.drop(columns=['poblacion'])\n",
    "\n",
    "display(negativos.head(3))"
   ]
  },
  {
   "cell_type": "code",
   "execution_count": 7,
   "id": "36c639c0",
   "metadata": {},
   "outputs": [
    {
     "name": "stdout",
     "output_type": "stream",
     "text": [
      "Fecha máxima original: 2022-02-07 00:00:00\n",
      "Fecha de corte establecida: 2022-01-31 00:00:00\n"
     ]
    },
    {
     "data": {
      "text/html": [
       "<div>\n",
       "<style scoped>\n",
       "    .dataframe tbody tr th:only-of-type {\n",
       "        vertical-align: middle;\n",
       "    }\n",
       "\n",
       "    .dataframe tbody tr th {\n",
       "        vertical-align: top;\n",
       "    }\n",
       "\n",
       "    .dataframe thead th {\n",
       "        text-align: right;\n",
       "    }\n",
       "</style>\n",
       "<table border=\"1\" class=\"dataframe\">\n",
       "  <thead>\n",
       "    <tr style=\"text-align: right;\">\n",
       "      <th></th>\n",
       "      <th>pais</th>\n",
       "      <th>estado</th>\n",
       "      <th>fecha</th>\n",
       "      <th>confirmados</th>\n",
       "      <th>negativos</th>\n",
       "      <th>casos</th>\n",
       "      <th>defunciones</th>\n",
       "    </tr>\n",
       "  </thead>\n",
       "  <tbody>\n",
       "    <tr>\n",
       "      <th>23529</th>\n",
       "      <td>MEXICO</td>\n",
       "      <td>AGUASCALIENTES</td>\n",
       "      <td>2019-12-31</td>\n",
       "      <td>0.0</td>\n",
       "      <td>0</td>\n",
       "      <td>0.0</td>\n",
       "      <td>0.0</td>\n",
       "    </tr>\n",
       "    <tr>\n",
       "      <th>23562</th>\n",
       "      <td>MEXICO</td>\n",
       "      <td>AGUASCALIENTES</td>\n",
       "      <td>2020-01-01</td>\n",
       "      <td>0.0</td>\n",
       "      <td>0</td>\n",
       "      <td>0.0</td>\n",
       "      <td>0.0</td>\n",
       "    </tr>\n",
       "    <tr>\n",
       "      <th>23595</th>\n",
       "      <td>MEXICO</td>\n",
       "      <td>AGUASCALIENTES</td>\n",
       "      <td>2020-01-02</td>\n",
       "      <td>0.0</td>\n",
       "      <td>2</td>\n",
       "      <td>0.0</td>\n",
       "      <td>0.0</td>\n",
       "    </tr>\n",
       "  </tbody>\n",
       "</table>\n",
       "</div>"
      ],
      "text/plain": [
       "         pais          estado      fecha  confirmados  negativos  casos  \\\n",
       "23529  MEXICO  AGUASCALIENTES 2019-12-31          0.0          0    0.0   \n",
       "23562  MEXICO  AGUASCALIENTES 2020-01-01          0.0          0    0.0   \n",
       "23595  MEXICO  AGUASCALIENTES 2020-01-02          0.0          2    0.0   \n",
       "\n",
       "       defunciones  \n",
       "23529          0.0  \n",
       "23562          0.0  \n",
       "23595          0.0  "
      ]
     },
     "metadata": {},
     "output_type": "display_data"
    }
   ],
   "source": [
    "consolidado = confirmados.merge(negativos, how='outer', on=['cve_ent', 'nombre', 'fecha'])\n",
    "consolidado = consolidado.merge(defunciones, how='outer', on=['cve_ent', 'nombre', 'fecha'])\n",
    "consolidado['confirmados'] = consolidado['confirmados'].fillna(0)\n",
    "consolidado['negativos'] = consolidado['negativos'].fillna(0)\n",
    "consolidado['defunciones'] = consolidado['defunciones'].fillna(0)\n",
    "\n",
    "consolidado['casos'] = consolidado['confirmados'] + consolidado['defunciones']\n",
    "consolidado = consolidado.loc[consolidado['cve_ent'] != 0]\n",
    "consolidado['pais'] = 'MEXICO'\n",
    "\n",
    "consolidado = consolidado[['pais', 'nombre', 'fecha', 'confirmados', 'negativos', 'casos', 'defunciones']]\n",
    "consolidado = consolidado.rename(columns={'nombre': 'estado'})\n",
    "\n",
    "fecha_max = consolidado['fecha'].max()\n",
    "fecha_estable = fecha_max + timedelta(days = -7)\n",
    "\n",
    "print('Fecha máxima original:', fecha_max)\n",
    "consolidado = consolidado.loc[consolidado['fecha'] <= fecha_estable]\n",
    "print('Fecha de corte establecida:', consolidado['fecha'].max())\n",
    "\n",
    "consolidado = consolidado.sort_values(by=['pais', 'estado', 'fecha'])\n",
    "\n",
    "display(consolidado.head(3))"
   ]
  },
  {
   "cell_type": "code",
   "execution_count": 8,
   "id": "212ec93c",
   "metadata": {},
   "outputs": [],
   "source": [
    "consolidado.to_csv('../data/processed/casos_covid.csv', index=False)"
   ]
  },
  {
   "cell_type": "code",
   "execution_count": null,
   "id": "0102ee1b",
   "metadata": {},
   "outputs": [],
   "source": []
  }
 ],
 "metadata": {
  "kernelspec": {
   "display_name": "Python 3",
   "language": "python",
   "name": "python3"
  },
  "language_info": {
   "codemirror_mode": {
    "name": "ipython",
    "version": 3
   },
   "file_extension": ".py",
   "mimetype": "text/x-python",
   "name": "python",
   "nbconvert_exporter": "python",
   "pygments_lexer": "ipython3",
   "version": "3.8.10"
  }
 },
 "nbformat": 4,
 "nbformat_minor": 5
}
